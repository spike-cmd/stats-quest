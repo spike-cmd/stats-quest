{
 "cells": [
  {
   "cell_type": "code",
   "execution_count": 2,
   "metadata": {},
   "outputs": [],
   "source": [
    "import pandas as pd\n",
    "import numpy as np\n",
    "import random as rd\n",
    "from sklearn.decomposition import PCA\n",
    "from sklearn import preprocessing\n",
    "import matplotlib.pyplot as plt"
   ]
  },
  {
   "cell_type": "code",
   "execution_count": 3,
   "metadata": {},
   "outputs": [],
   "source": [
    "genes = ['gene'+str(i) for i in range(1,101)]\n",
    "wt = ['wt'+str(i) for i in range(1,6)]\n",
    "ko = ['ko'+str(i) for i in range(1,6)]\n",
    "data = pd.DataFrame(columns=[*wt,*ko],index=genes)\n",
    "for gene in data.index:\n",
    "    data.loc[gene,'wt1':'wt5'] = np.random.poisson(lam=rd.randrange(10,1000),size=5)\n",
    "    data.loc[gene,'ko1':'ko5'] = np.random.poisson(lam=rd.randrange(10,1000),size=5)\n"
   ]
  },
  {
   "cell_type": "code",
   "execution_count": 5,
   "metadata": {},
   "outputs": [],
   "source": [
    "#标准化数据\n",
    "scaled_data = preprocessing.scale(data.T)"
   ]
  },
  {
   "cell_type": "code",
   "execution_count": 7,
   "metadata": {},
   "outputs": [],
   "source": [
    "pca = PCA()\n",
    "pca.fit(scaled_data)\n",
    "pca_data = pca.transform(scaled_data)\n",
    "per_var = np.round(pca.explained_variance_ratio_*100,decimals=1)\n",
    "labels = ['PC'+str(x) for x in range(1,len(per_var)+1)]\n"
   ]
  },
  {
   "cell_type": "code",
   "execution_count": 8,
   "metadata": {},
   "outputs": [
    {
     "data": {
      "image/png": "[encoded data removed]",
      "text/plain": [
       "<Figure size 640x480 with 1 Axes>"
      ]
     },
     "metadata": {},
     "output_type": "display_data"
    }
   ],
   "source": [
    "plt.bar(x = range(1,len(per_var)+1),height=per_var,tick_label = labels)\n",
    "plt.ylabel('Percentage of Explained Variance')\n",
    "plt.xlabel('Principal Component')\n",
    "plt.title(\"Scree Plot\")\n",
    "plt.show()"
   ]
  },
  {
   "cell_type": "code",
   "execution_count": 9,
   "metadata": {},
   "outputs": [],
   "source": [
    "pca_df = pd.DataFrame(pca_data,index=[*wt,*ko],columns=labels)"
   ]
  },
  {
   "cell_type": "code",
   "execution_count": 10,
   "metadata": {},
   "outputs": [
    {
     "data": {
      "text/html": [
       "<div>\n",
       "<style scoped>\n",
       "    .dataframe tbody tr th:only-of-type {\n",
       "        vertical-align: middle;\n",
       "    }\n",
       "\n",
       "    .dataframe tbody tr th {\n",
       "        vertical-align: top;\n",
       "    }\n",
       "\n",
       "    .dataframe thead th {\n",
       "        text-align: right;\n",
       "    }\n",
       "</style>\n",
       "<table border=\"1\" class=\"dataframe\">\n",
       "  <thead>\n",
       "    <tr style=\"text-align: right;\">\n",
       "      <th></th>\n",
       "      <th>PC1</th>\n",
       "      <th>PC2</th>\n",
       "      <th>PC3</th>\n",
       "      <th>PC4</th>\n",
       "      <th>PC5</th>\n",
       "      <th>PC6</th>\n",
       "      <th>PC7</th>\n",
       "      <th>PC8</th>\n",
       "      <th>PC9</th>\n",
       "      <th>PC10</th>\n",
       "    </tr>\n",
       "  </thead>\n",
       "  <tbody>\n",
       "    <tr>\n",
       "      <th>wt1</th>\n",
       "      <td>-9.651419</td>\n",
       "      <td>-0.970552</td>\n",
       "      <td>-0.377810</td>\n",
       "      <td>-2.263378</td>\n",
       "      <td>0.501232</td>\n",
       "      <td>-1.106935</td>\n",
       "      <td>1.193465</td>\n",
       "      <td>-0.046985</td>\n",
       "      <td>-0.546291</td>\n",
       "      <td>1.110223e-16</td>\n",
       "    </tr>\n",
       "    <tr>\n",
       "      <th>wt2</th>\n",
       "      <td>-9.120621</td>\n",
       "      <td>0.356925</td>\n",
       "      <td>-0.287699</td>\n",
       "      <td>-0.418968</td>\n",
       "      <td>-0.422257</td>\n",
       "      <td>-0.919074</td>\n",
       "      <td>-1.106783</td>\n",
       "      <td>1.482197</td>\n",
       "      <td>0.642716</td>\n",
       "      <td>5.551115e-16</td>\n",
       "    </tr>\n",
       "    <tr>\n",
       "      <th>wt3</th>\n",
       "      <td>-9.633719</td>\n",
       "      <td>-0.565784</td>\n",
       "      <td>3.068800</td>\n",
       "      <td>0.532540</td>\n",
       "      <td>1.248030</td>\n",
       "      <td>0.283217</td>\n",
       "      <td>-0.266298</td>\n",
       "      <td>-0.763808</td>\n",
       "      <td>0.439166</td>\n",
       "      <td>-7.771561e-16</td>\n",
       "    </tr>\n",
       "    <tr>\n",
       "      <th>wt4</th>\n",
       "      <td>-9.369265</td>\n",
       "      <td>-0.742184</td>\n",
       "      <td>-2.248948</td>\n",
       "      <td>-0.154391</td>\n",
       "      <td>-0.601705</td>\n",
       "      <td>1.379548</td>\n",
       "      <td>-1.023073</td>\n",
       "      <td>-0.999843</td>\n",
       "      <td>-0.175838</td>\n",
       "      <td>4.440892e-16</td>\n",
       "    </tr>\n",
       "    <tr>\n",
       "      <th>wt5</th>\n",
       "      <td>-9.634003</td>\n",
       "      <td>1.880428</td>\n",
       "      <td>-0.175678</td>\n",
       "      <td>2.306369</td>\n",
       "      <td>-0.767895</td>\n",
       "      <td>0.349408</td>\n",
       "      <td>1.152291</td>\n",
       "      <td>0.357463</td>\n",
       "      <td>-0.353814</td>\n",
       "      <td>6.661338e-16</td>\n",
       "    </tr>\n",
       "    <tr>\n",
       "      <th>ko1</th>\n",
       "      <td>9.452777</td>\n",
       "      <td>3.047794</td>\n",
       "      <td>1.131450</td>\n",
       "      <td>-1.088127</td>\n",
       "      <td>-0.731093</td>\n",
       "      <td>-0.517798</td>\n",
       "      <td>-0.728095</td>\n",
       "      <td>-0.514438</td>\n",
       "      <td>-0.536642</td>\n",
       "      <td>1.776357e-15</td>\n",
       "    </tr>\n",
       "    <tr>\n",
       "      <th>ko2</th>\n",
       "      <td>9.353148</td>\n",
       "      <td>0.589441</td>\n",
       "      <td>-0.117210</td>\n",
       "      <td>-1.312256</td>\n",
       "      <td>0.174875</td>\n",
       "      <td>2.094315</td>\n",
       "      <td>0.864218</td>\n",
       "      <td>0.427883</td>\n",
       "      <td>0.718548</td>\n",
       "      <td>1.221245e-15</td>\n",
       "    </tr>\n",
       "    <tr>\n",
       "      <th>ko3</th>\n",
       "      <td>9.679034</td>\n",
       "      <td>-2.805345</td>\n",
       "      <td>1.229201</td>\n",
       "      <td>0.569159</td>\n",
       "      <td>-0.811466</td>\n",
       "      <td>0.518310</td>\n",
       "      <td>-0.298096</td>\n",
       "      <td>0.740185</td>\n",
       "      <td>-0.779154</td>\n",
       "      <td>2.220446e-16</td>\n",
       "    </tr>\n",
       "    <tr>\n",
       "      <th>ko4</th>\n",
       "      <td>9.399794</td>\n",
       "      <td>0.315378</td>\n",
       "      <td>-1.586645</td>\n",
       "      <td>1.063861</td>\n",
       "      <td>2.637608</td>\n",
       "      <td>-0.508832</td>\n",
       "      <td>-0.292018</td>\n",
       "      <td>0.151988</td>\n",
       "      <td>-0.208255</td>\n",
       "      <td>1.110223e-16</td>\n",
       "    </tr>\n",
       "    <tr>\n",
       "      <th>ko5</th>\n",
       "      <td>9.524274</td>\n",
       "      <td>-1.106100</td>\n",
       "      <td>-0.635461</td>\n",
       "      <td>0.765191</td>\n",
       "      <td>-1.227331</td>\n",
       "      <td>-1.572159</td>\n",
       "      <td>0.504389</td>\n",
       "      <td>-0.834641</td>\n",
       "      <td>0.799564</td>\n",
       "      <td>5.551115e-16</td>\n",
       "    </tr>\n",
       "  </tbody>\n",
       "</table>\n",
       "</div>"
      ],
      "text/plain": [
       "          PC1       PC2       PC3       PC4       PC5       PC6       PC7  \\\n",
       "wt1 -9.651419 -0.970552 -0.377810 -2.263378  0.501232 -1.106935  1.193465   \n",
       "wt2 -9.120621  0.356925 -0.287699 -0.418968 -0.422257 -0.919074 -1.106783   \n",
       "wt3 -9.633719 -0.565784  3.068800  0.532540  1.248030  0.283217 -0.266298   \n",
       "wt4 -9.369265 -0.742184 -2.248948 -0.154391 -0.601705  1.379548 -1.023073   \n",
       "wt5 -9.634003  1.880428 -0.175678  2.306369 -0.767895  0.349408  1.152291   \n",
       "ko1  9.452777  3.047794  1.131450 -1.088127 -0.731093 -0.517798 -0.728095   \n",
       "ko2  9.353148  0.589441 -0.117210 -1.312256  0.174875  2.094315  0.864218   \n",
       "ko3  9.679034 -2.805345  1.229201  0.569159 -0.811466  0.518310 -0.298096   \n",
       "ko4  9.399794  0.315378 -1.586645  1.063861  2.637608 -0.508832 -0.292018   \n",
       "ko5  9.524274 -1.106100 -0.635461  0.765191 -1.227331 -1.572159  0.504389   \n",
       "\n",
       "          PC8       PC9          PC10  \n",
       "wt1 -0.046985 -0.546291  1.110223e-16  \n",
       "wt2  1.482197  0.642716  5.551115e-16  \n",
       "wt3 -0.763808  0.439166 -7.771561e-16  \n",
       "wt4 -0.999843 -0.175838  4.440892e-16  \n",
       "wt5  0.357463 -0.353814  6.661338e-16  \n",
       "ko1 -0.514438 -0.536642  1.776357e-15  \n",
       "ko2  0.427883  0.718548  1.221245e-15  \n",
       "ko3  0.740185 -0.779154  2.220446e-16  \n",
       "ko4  0.151988 -0.208255  1.110223e-16  \n",
       "ko5 -0.834641  0.799564  5.551115e-16  "
      ]
     },
     "execution_count": 10,
     "metadata": {},
     "output_type": "execute_result"
    }
   ],
   "source": [
    "pca_df"
   ]
  },
  {
   "cell_type": "code",
   "execution_count": 11,
   "metadata": {},
   "outputs": [
    {
     "data": {
      "image/png": "[encoded data removed]",
      "text/plain": [
       "<Figure size 640x480 with 1 Axes>"
      ]
     },
     "metadata": {},
     "output_type": "display_data"
    }
   ],
   "source": [
    "plt.scatter(pca_df.PC1,pca_df.PC2)\n",
    "plt.title('My PCA Graph')\n",
    "plt.xlabel('PC1 - {}'.format(per_var[0]))\n",
    "plt.ylabel('PC2 - {}'.format(per_var[1]))\n",
    "for sample in pca_df.index:\n",
    "    plt.annotate(sample,(pca_df.PC1.loc[sample],pca_df.PC2.loc[sample]))\n",
    "plt.show()"
   ]
  },
  {
   "cell_type": "code",
   "execution_count": 12,
   "metadata": {},
   "outputs": [],
   "source": [
    "loading_scores = pd.Series(pca.components_[0],index=genes)"
   ]
  },
  {
   "cell_type": "code",
   "execution_count": null,
   "metadata": {},
   "outputs": [],
   "source": []
  }
 ],
 "metadata": {
  "kernelspec": {
   "display_name": "myenv",
   "language": "python",
   "name": "python3"
  },
  "language_info": {
   "codemirror_mode": {
    "name": "ipython",
    "version": 3
   },
   "file_extension": ".py",
   "mimetype": "text/x-python",
   "name": "python",
   "nbconvert_exporter": "python",
   "pygments_lexer": "ipython3",
   "version": "3.9.17"
  }
 },
 "nbformat": 4,
 "nbformat_minor": 2
}
